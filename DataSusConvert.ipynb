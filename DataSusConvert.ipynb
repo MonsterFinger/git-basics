{
  "nbformat": 4,
  "nbformat_minor": 0,
  "metadata": {
    "colab": {
      "name": "DataSusConvert.ipynb",
      "provenance": [],
      "collapsed_sections": [],
      "toc_visible": true,
      "authorship_tag": "ABX9TyMCWwD7ritMxnG3dTm255gQ",
      "include_colab_link": true
    },
    "kernelspec": {
      "name": "python3",
      "display_name": "Python 3"
    }
  },
  "cells": [
    {
      "cell_type": "markdown",
      "metadata": {
        "id": "view-in-github",
        "colab_type": "text"
      },
      "source": [
        "<a href=\"https://colab.research.google.com/github/MonsterFinger/git-basics/blob/master/DataSusConvert.ipynb\" target=\"_parent\"><img src=\"https://colab.research.google.com/assets/colab-badge.svg\" alt=\"Open In Colab\"/></a>"
      ]
    },
    {
      "cell_type": "markdown",
      "metadata": {
        "id": "8uw5zWv-xEyr"
      },
      "source": [
        "###Download .DBC files from DATASUS, convert them into .DBF an then to .CSV - using Python and Bash only"
      ]
    },
    {
      "cell_type": "markdown",
      "metadata": {
        "id": "RoMSQ5cD6qQK"
      },
      "source": [
        "## Create data directory to store .DBC, .DBF & .CSV files type\n",
        "\n"
      ]
    },
    {
      "cell_type": "code",
      "metadata": {
        "id": "vGQ1hSxNQaKE"
      },
      "source": [
        "!mkdir data\n"
      ],
      "execution_count": 1,
      "outputs": []
    },
    {
      "cell_type": "markdown",
      "metadata": {
        "id": "CdJv_6KS7QA9"
      },
      "source": [
        "## Verify if it has been created"
      ]
    },
    {
      "cell_type": "code",
      "metadata": {
        "id": "uJfEv6mdQgOh",
        "colab": {
          "base_uri": "https://localhost:8080/"
        },
        "outputId": "1dc996e1-035a-43ff-d1f8-878c8f797a66"
      },
      "source": [
        "!ls"
      ],
      "execution_count": 2,
      "outputs": [
        {
          "output_type": "stream",
          "text": [
            "data  sample_data\n"
          ],
          "name": "stdout"
        }
      ]
    },
    {
      "cell_type": "markdown",
      "metadata": {
        "id": "8F7wedx37lg0"
      },
      "source": [
        "##Go to data dir and download .dbc file(s) from DATASUS\n"
      ]
    },
    {
      "cell_type": "code",
      "metadata": {
        "id": "biNWWkYcQxJf",
        "colab": {
          "base_uri": "https://localhost:8080/"
        },
        "outputId": "a727fe49-179d-40dd-cc6b-189a9941e7f6"
      },
      "source": [
        "\n",
        "%cd data\n",
        "\n",
        "!wget 'ftp://ftp.datasus.gov.br/dissemin/publicos/SIM/CID10/DORES/DORR2018.dbc'"
      ],
      "execution_count": 3,
      "outputs": [
        {
          "output_type": "stream",
          "text": [
            "/content/data\n",
            "--2020-11-23 10:43:20--  ftp://ftp.datasus.gov.br/dissemin/publicos/SIM/CID10/DORES/DORR2018.dbc\n",
            "           => ‘DORR2018.dbc’\n",
            "Resolving ftp.datasus.gov.br (ftp.datasus.gov.br)... 189.28.143.164\n",
            "Connecting to ftp.datasus.gov.br (ftp.datasus.gov.br)|189.28.143.164|:21... connected.\n",
            "Logging in as anonymous ... Logged in!\n",
            "==> SYST ... done.    ==> PWD ... done.\n",
            "==> TYPE I ... done.  ==> CWD (1) /dissemin/publicos/SIM/CID10/DORES ... done.\n",
            "==> SIZE DORR2018.dbc ... 229909\n",
            "==> PASV ... done.    ==> RETR DORR2018.dbc ... done.\n",
            "Length: 229909 (225K) (unauthoritative)\n",
            "\n",
            "DORR2018.dbc        100%[===================>] 224.52K   259KB/s    in 0.9s    \n",
            "\n",
            "2020-11-23 10:43:23 (259 KB/s) - ‘DORR2018.dbc’ saved [229909]\n",
            "\n"
          ],
          "name": "stdout"
        }
      ]
    },
    {
      "cell_type": "markdown",
      "metadata": {
        "id": "yPzHqkF3s_de"
      },
      "source": [
        "##Change to content dir"
      ]
    },
    {
      "cell_type": "code",
      "metadata": {
        "id": "Qngw9kZwR_FK",
        "colab": {
          "base_uri": "https://localhost:8080/"
        },
        "outputId": "34d868fb-e8a6-4efd-95cc-c429d725388b"
      },
      "source": [
        "%cd /content/"
      ],
      "execution_count": 4,
      "outputs": [
        {
          "output_type": "stream",
          "text": [
            "/content\n"
          ],
          "name": "stdout"
        }
      ]
    },
    {
      "cell_type": "markdown",
      "metadata": {
        "id": "T9fsdWPQtQDj"
      },
      "source": [
        "##Download script dbc2dbf.sh from github\n",
        " "
      ]
    },
    {
      "cell_type": "code",
      "metadata": {
        "id": "gwxwrJuYQIPl",
        "colab": {
          "base_uri": "https://localhost:8080/"
        },
        "outputId": "c7b710bb-0140-4c17-d7fc-c87746babd51"
      },
      "source": [
        "!wget https://raw.githubusercontent.com/greatjapa/dbc2csv/4a68def8b24833a5562a2eedf393ac49e9e2a959/dbc2dbf.sh"
      ],
      "execution_count": 5,
      "outputs": [
        {
          "output_type": "stream",
          "text": [
            "--2020-11-23 10:44:31--  https://raw.githubusercontent.com/greatjapa/dbc2csv/4a68def8b24833a5562a2eedf393ac49e9e2a959/dbc2dbf.sh\n",
            "Resolving raw.githubusercontent.com (raw.githubusercontent.com)... 151.101.0.133, 151.101.64.133, 151.101.128.133, ...\n",
            "Connecting to raw.githubusercontent.com (raw.githubusercontent.com)|151.101.0.133|:443... connected.\n",
            "HTTP request sent, awaiting response... 200 OK\n",
            "Length: 113 [text/plain]\n",
            "Saving to: ‘dbc2dbf.sh’\n",
            "\n",
            "dbc2dbf.sh          100%[===================>]     113  --.-KB/s    in 0s      \n",
            "\n",
            "2020-11-23 10:44:31 (5.77 MB/s) - ‘dbc2dbf.sh’ saved [113/113]\n",
            "\n"
          ],
          "name": "stdout"
        }
      ]
    },
    {
      "cell_type": "markdown",
      "metadata": {
        "id": "mCXlaJLQtj2J"
      },
      "source": [
        "##Install and import the package dbfread in order to work with dbf file types"
      ]
    },
    {
      "cell_type": "code",
      "metadata": {
        "id": "WUtNPVXWPaVI",
        "colab": {
          "base_uri": "https://localhost:8080/"
        },
        "outputId": "f8d096b6-c9cf-46af-d671-81d4720efcd0"
      },
      "source": [
        "!pip install dbfread\n",
        "from dbfread import DBF"
      ],
      "execution_count": 6,
      "outputs": [
        {
          "output_type": "stream",
          "text": [
            "Collecting dbfread\n",
            "  Downloading https://files.pythonhosted.org/packages/4c/94/51349e43503e30ed7b4ecfe68a8809cdb58f722c0feb79d18b1f1e36fe74/dbfread-2.0.7-py2.py3-none-any.whl\n",
            "Installing collected packages: dbfread\n",
            "Successfully installed dbfread-2.0.7\n"
          ],
          "name": "stdout"
        }
      ]
    },
    {
      "cell_type": "markdown",
      "metadata": {
        "id": "8y-Kvb1XuS4G"
      },
      "source": [
        "## Go to the root dir (/content in google colab)"
      ]
    },
    {
      "cell_type": "code",
      "metadata": {
        "id": "Q3luhVIcRopd",
        "colab": {
          "base_uri": "https://localhost:8080/"
        },
        "outputId": "bcc683cf-3c7a-4aac-e98e-9282cb69d43e"
      },
      "source": [
        "%cd /content/"
      ],
      "execution_count": 7,
      "outputs": [
        {
          "output_type": "stream",
          "text": [
            "/content\n"
          ],
          "name": "stdout"
        }
      ]
    },
    {
      "cell_type": "markdown",
      "metadata": {
        "id": "odtIbOJsuhuc"
      },
      "source": [
        "##Download blast-dbf from Git hub"
      ]
    },
    {
      "cell_type": "code",
      "metadata": {
        "id": "VxQ7_X9XPUUi",
        "colab": {
          "base_uri": "https://localhost:8080/"
        },
        "outputId": "183d2381-6e74-40b1-948e-0f7fa2d1d0e0"
      },
      "source": [
        "!git clone https://github.com/eaglebh/blast-dbf"
      ],
      "execution_count": 8,
      "outputs": [
        {
          "output_type": "stream",
          "text": [
            "Cloning into 'blast-dbf'...\n",
            "remote: Enumerating objects: 50, done.\u001b[K\n",
            "remote: Total 50 (delta 0), reused 0 (delta 0), pack-reused 50\u001b[K\n",
            "Unpacking objects: 100% (50/50), done.\n"
          ],
          "name": "stdout"
        }
      ]
    },
    {
      "cell_type": "markdown",
      "metadata": {
        "id": "T4uzc4a-u-15"
      },
      "source": [
        "##Run the compiler to create the blast-dbf binary"
      ]
    },
    {
      "cell_type": "code",
      "metadata": {
        "id": "mfIpPvifPQtZ",
        "colab": {
          "base_uri": "https://localhost:8080/"
        },
        "outputId": "1b87b532-9ed5-4775-cb22-d046955dd66b"
      },
      "source": [
        "#!pwd\n",
        "%cd blast-dbf/\n",
        "!make blast-dbf"
      ],
      "execution_count": 9,
      "outputs": [
        {
          "output_type": "stream",
          "text": [
            "/content/blast-dbf\n",
            "cc -o blast-dbf blast.c blast-dbf.c\n"
          ],
          "name": "stdout"
        }
      ]
    },
    {
      "cell_type": "markdown",
      "metadata": {
        "id": "EkRdEz2QvNyY"
      },
      "source": [
        "##Change to root dir (/content)"
      ]
    },
    {
      "cell_type": "code",
      "metadata": {
        "id": "_NxUL__pPNKJ",
        "colab": {
          "base_uri": "https://localhost:8080/"
        },
        "outputId": "0caf2809-1d47-424a-fa35-013791fd4b0d"
      },
      "source": [
        "#!pwd\n",
        "%cd /content\n"
      ],
      "execution_count": 10,
      "outputs": [
        {
          "output_type": "stream",
          "text": [
            "/content\n"
          ],
          "name": "stdout"
        }
      ]
    },
    {
      "cell_type": "markdown",
      "metadata": {
        "id": "6Hci3ZGhvXI3"
      },
      "source": [
        "##Run script dbc2dbf which will  generate .dbf files from /content/data/*.dbc"
      ]
    },
    {
      "cell_type": "code",
      "metadata": {
        "id": "vIixmkFAPDf0",
        "colab": {
          "base_uri": "https://localhost:8080/"
        },
        "outputId": "8cad439d-5777-49ee-b4a0-0e13d2e6bfe9"
      },
      "source": [
        "!sh ./dbc2dbf.sh"
      ],
      "execution_count": 11,
      "outputs": [
        {
          "output_type": "stream",
          "text": [
            "data/DORR2018.dbc converted to dbf\n"
          ],
          "name": "stdout"
        }
      ]
    },
    {
      "cell_type": "markdown",
      "metadata": {
        "id": "4sKprpOlv2Y8"
      },
      "source": [
        "##Create the following function dbf_to_csv"
      ]
    },
    {
      "cell_type": "code",
      "metadata": {
        "id": "nsbKiH1aPADi"
      },
      "source": [
        "#Input a dbf, output a csv, same name, same path, except extension\n",
        "def dbf_to_csv(dbf_table_pth):\n",
        "    csv_fn = dbf_table_pth[:-4]+ \".csv\" #Set the csv file name\n",
        "    table = DBF(dbf_table_pth)# table variable is a DBF object\n",
        "    with open(csv_fn, 'w', newline = '') as f:# create a csv file, fill it with dbf content\n",
        "        writer = csv.writer(f)\n",
        "        writer.writerow(table.field_names)# write the column name\n",
        "        for record in table:# write the rows\n",
        "            writer.writerow(list(record.values()))\n",
        "    return csv_fn# return the csv name"
      ],
      "execution_count": 12,
      "outputs": []
    },
    {
      "cell_type": "markdown",
      "metadata": {
        "id": "7dsVKGYYwCSr"
      },
      "source": [
        "## Import csv into python "
      ]
    },
    {
      "cell_type": "code",
      "metadata": {
        "id": "i_5gTtF2wOdj"
      },
      "source": [
        "import csv"
      ],
      "execution_count": null,
      "outputs": []
    },
    {
      "cell_type": "markdown",
      "metadata": {
        "id": "OxxCuIkTwTfx"
      },
      "source": [
        "##Run the dbf_csv function below"
      ]
    },
    {
      "cell_type": "code",
      "metadata": {
        "id": "js7tnCKkO0rz",
        "colab": {
          "base_uri": "https://localhost:8080/",
          "height": 35
        },
        "outputId": "ad3405e7-8d92-48d6-b107-5e03bcbf9622"
      },
      "source": [
        "\n",
        "dbf_to_csv('/content/data/DORR2018.dbf')"
      ],
      "execution_count": 13,
      "outputs": [
        {
          "output_type": "execute_result",
          "data": {
            "application/vnd.google.colaboratory.intrinsic+json": {
              "type": "string"
            },
            "text/plain": [
              "'/content/data/DORR2018.csv'"
            ]
          },
          "metadata": {
            "tags": []
          },
          "execution_count": 13
        }
      ]
    },
    {
      "cell_type": "markdown",
      "metadata": {
        "id": "clHUjsjV6ofS"
      },
      "source": [
        "##Import pandas into Python"
      ]
    },
    {
      "cell_type": "code",
      "metadata": {
        "id": "BuvkE_NTO5Tl"
      },
      "source": [
        "import pandas as pd\n"
      ],
      "execution_count": 14,
      "outputs": []
    },
    {
      "cell_type": "markdown",
      "metadata": {
        "id": "hhIq_CqHwhRw"
      },
      "source": [
        "##Create the dataframe based the new CSV recent created"
      ]
    },
    {
      "cell_type": "code",
      "metadata": {
        "id": "8H36SENeTIc3"
      },
      "source": [
        "df = pd.read_csv('/content/data/DORR2018.csv')\n"
      ],
      "execution_count": 15,
      "outputs": []
    },
    {
      "cell_type": "markdown",
      "metadata": {
        "id": "9KlTdB-CwqPO"
      },
      "source": [
        "##Now we can use some functions to display the Data Frame"
      ]
    },
    {
      "cell_type": "code",
      "metadata": {
        "id": "PxzCHz0ITryj",
        "colab": {
          "base_uri": "https://localhost:8080/"
        },
        "outputId": "4c179c3d-012a-4900-ce53-9fb687c437e8"
      },
      "source": [
        "df.head\n",
        "#df.columns"
      ],
      "execution_count": 17,
      "outputs": [
        {
          "output_type": "execute_result",
          "data": {
            "text/plain": [
              "<bound method NDFrame.head of       ORIGEM  TIPOBITO   DTOBITO  ...  FONTESINF  ALTCAUSA  CONTADOR\n",
              "0          1         2  23072018  ...        NaN       NaN      1865\n",
              "1          1         2  26092018  ...        NaN       NaN      1866\n",
              "2          1         2  31012018  ...        NaN       NaN      1867\n",
              "3          1         2  24032018  ...        NaN       NaN      1868\n",
              "4          1         2  21052018  ...        NaN       NaN      1869\n",
              "...      ...       ...       ...  ...        ...       ...       ...\n",
              "2782       1         2  28122018  ...        NaN       2.0   1316679\n",
              "2783       1         2  27102018  ...        NaN       2.0   1316685\n",
              "2784       1         2  24122018  ...        NaN       2.0   1316687\n",
              "2785       1         2  22112018  ...        NaN       2.0   1316690\n",
              "2786       1         2  16122018  ...        NaN       2.0   1316691\n",
              "\n",
              "[2787 rows x 88 columns]>"
            ]
          },
          "metadata": {
            "tags": []
          },
          "execution_count": 17
        }
      ]
    }
  ]
}