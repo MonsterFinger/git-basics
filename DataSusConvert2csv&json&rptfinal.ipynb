{
  "nbformat": 4,
  "nbformat_minor": 0,
  "metadata": {
    "colab": {
      "name": "DataSusConvert2csv&json&rptfinal.ipynb",
      "provenance": [],
      "collapsed_sections": [],
      "authorship_tag": "ABX9TyNFIBtf7ZMHgg5G0hhjXTaX",
      "include_colab_link": true
    },
    "kernelspec": {
      "name": "python3",
      "display_name": "Python 3"
    }
  },
  "cells": [
    {
      "cell_type": "markdown",
      "metadata": {
        "id": "view-in-github",
        "colab_type": "text"
      },
      "source": [
        "<a href=\"https://colab.research.google.com/github/MonsterFinger/git-basics/blob/master/DataSusConvert2csv%26json%26rptfinal.ipynb\" target=\"_parent\"><img src=\"https://colab.research.google.com/assets/colab-badge.svg\" alt=\"Open In Colab\"/></a>"
      ]
    },
    {
      "cell_type": "code",
      "metadata": {
        "id": "Ostsp7idPMoO"
      },
      "source": [
        "!rm -rf /content/*"
      ],
      "execution_count": 66,
      "outputs": []
    },
    {
      "cell_type": "markdown",
      "metadata": {
        "id": "8uw5zWv-xEyr"
      },
      "source": [
        "#Download .DBC files from DATASUS, extract them into .DBF an then convert into .CSV and JSON - using Python (data frame)  and Bash."
      ]
    },
    {
      "cell_type": "markdown",
      "metadata": {
        "id": "RoMSQ5cD6qQK"
      },
      "source": [
        "## Create data directory to store .DBC, .DBF & .CSV files type\n",
        "\n"
      ]
    },
    {
      "cell_type": "code",
      "metadata": {
        "id": "vGQ1hSxNQaKE"
      },
      "source": [
        "#define var file source without the type.\n",
        "source = 'DORR2016'\n",
        "source1 = 'DORR2017'\n",
        "source2 = 'DORR2018'\n",
        "\n",
        "\n",
        "\n",
        "\n"
      ],
      "execution_count": 67,
      "outputs": []
    },
    {
      "cell_type": "code",
      "metadata": {
        "id": "QLrCbeYqqJGF"
      },
      "source": [
        "\n",
        "!mkdir data"
      ],
      "execution_count": 68,
      "outputs": []
    },
    {
      "cell_type": "markdown",
      "metadata": {
        "id": "CdJv_6KS7QA9"
      },
      "source": [
        "## Verify if it has been created"
      ]
    },
    {
      "cell_type": "code",
      "metadata": {
        "id": "uJfEv6mdQgOh",
        "colab": {
          "base_uri": "https://localhost:8080/"
        },
        "outputId": "ab867803-a587-4099-df3c-375aa438bd8a"
      },
      "source": [
        "!ls\n",
        "%cd data"
      ],
      "execution_count": 69,
      "outputs": [
        {
          "output_type": "stream",
          "text": [
            "data\n",
            "/content/data\n"
          ],
          "name": "stdout"
        }
      ]
    },
    {
      "cell_type": "markdown",
      "metadata": {
        "id": "8F7wedx37lg0"
      },
      "source": [
        "##Go to data dir and download .dbc file(s) from DATASUS\n"
      ]
    },
    {
      "cell_type": "code",
      "metadata": {
        "id": "biNWWkYcQxJf"
      },
      "source": [
        "import shutil\n",
        "import urllib.request as request\n",
        "from contextlib import closing\n",
        "\n",
        "def downloadFile(source):\n",
        "  url = 'ftp://ftp.datasus.gov.br/dissemin/publicos/SIM/CID10/DORES/'+ source +'.dbc'\n",
        "  with closing(request.urlopen(url)) as r:\n",
        "      with open(source +'.dbc', 'wb') as f:\n",
        "          shutil.copyfileobj(r, f)\n",
        "\n"
      ],
      "execution_count": 70,
      "outputs": []
    },
    {
      "cell_type": "code",
      "metadata": {
        "id": "1diZZE5OqpMy"
      },
      "source": [
        "downloadFile(source)\n",
        "downloadFile(source1)\n",
        "downloadFile(source2)"
      ],
      "execution_count": 71,
      "outputs": []
    },
    {
      "cell_type": "markdown",
      "metadata": {
        "id": "yPzHqkF3s_de"
      },
      "source": [
        "##Change to content dir"
      ]
    },
    {
      "cell_type": "code",
      "metadata": {
        "id": "Qngw9kZwR_FK",
        "colab": {
          "base_uri": "https://localhost:8080/"
        },
        "outputId": "bcd42b93-b9f8-4943-fab2-05378c433033"
      },
      "source": [
        "%cd /content/"
      ],
      "execution_count": 72,
      "outputs": [
        {
          "output_type": "stream",
          "text": [
            "/content\n"
          ],
          "name": "stdout"
        }
      ]
    },
    {
      "cell_type": "markdown",
      "metadata": {
        "id": "T9fsdWPQtQDj"
      },
      "source": [
        "##Download script dbc2dbf.sh from github\n",
        " "
      ]
    },
    {
      "cell_type": "code",
      "metadata": {
        "id": "gwxwrJuYQIPl",
        "colab": {
          "base_uri": "https://localhost:8080/"
        },
        "outputId": "3012b1f1-b3d0-4d4d-e8c3-9a90538dc423"
      },
      "source": [
        "!wget https://raw.githubusercontent.com/greatjapa/dbc2csv/4a68def8b24833a5562a2eedf393ac49e9e2a959/dbc2dbf.sh"
      ],
      "execution_count": 73,
      "outputs": [
        {
          "output_type": "stream",
          "text": [
            "--2020-11-23 22:54:51--  https://raw.githubusercontent.com/greatjapa/dbc2csv/4a68def8b24833a5562a2eedf393ac49e9e2a959/dbc2dbf.sh\n",
            "Resolving raw.githubusercontent.com (raw.githubusercontent.com)... 151.101.0.133, 151.101.64.133, 151.101.128.133, ...\n",
            "Connecting to raw.githubusercontent.com (raw.githubusercontent.com)|151.101.0.133|:443... connected.\n",
            "HTTP request sent, awaiting response... 200 OK\n",
            "Length: 113 [text/plain]\n",
            "Saving to: ‘dbc2dbf.sh’\n",
            "\n",
            "dbc2dbf.sh          100%[===================>]     113  --.-KB/s    in 0s      \n",
            "\n",
            "2020-11-23 22:54:51 (5.56 MB/s) - ‘dbc2dbf.sh’ saved [113/113]\n",
            "\n"
          ],
          "name": "stdout"
        }
      ]
    },
    {
      "cell_type": "markdown",
      "metadata": {
        "id": "mCXlaJLQtj2J"
      },
      "source": [
        "##Install and import the package dbfread in order to work with dbf file types"
      ]
    },
    {
      "cell_type": "code",
      "metadata": {
        "id": "WUtNPVXWPaVI",
        "colab": {
          "base_uri": "https://localhost:8080/"
        },
        "outputId": "3254af48-ebca-4891-85d3-60481de60989"
      },
      "source": [
        "!pip install dbfread\n",
        "from dbfread import DBF"
      ],
      "execution_count": 74,
      "outputs": [
        {
          "output_type": "stream",
          "text": [
            "Requirement already satisfied: dbfread in /usr/local/lib/python3.6/dist-packages (2.0.7)\n"
          ],
          "name": "stdout"
        }
      ]
    },
    {
      "cell_type": "markdown",
      "metadata": {
        "id": "8y-Kvb1XuS4G"
      },
      "source": [
        "## Go to the root dir (/content in google colab)"
      ]
    },
    {
      "cell_type": "code",
      "metadata": {
        "id": "Q3luhVIcRopd",
        "colab": {
          "base_uri": "https://localhost:8080/"
        },
        "outputId": "c78d806a-2ccb-4c6a-c2e0-28da261b2676"
      },
      "source": [
        "%cd /content/"
      ],
      "execution_count": 75,
      "outputs": [
        {
          "output_type": "stream",
          "text": [
            "/content\n"
          ],
          "name": "stdout"
        }
      ]
    },
    {
      "cell_type": "markdown",
      "metadata": {
        "id": "odtIbOJsuhuc"
      },
      "source": [
        "##Download blast-dbf from Git hub"
      ]
    },
    {
      "cell_type": "code",
      "metadata": {
        "id": "VxQ7_X9XPUUi",
        "colab": {
          "base_uri": "https://localhost:8080/"
        },
        "outputId": "dc3cb54b-8a66-4392-a707-a50715adb8a3"
      },
      "source": [
        "!git clone https://github.com/eaglebh/blast-dbf"
      ],
      "execution_count": 76,
      "outputs": [
        {
          "output_type": "stream",
          "text": [
            "Cloning into 'blast-dbf'...\n",
            "remote: Enumerating objects: 50, done.\u001b[K\n",
            "remote: Total 50 (delta 0), reused 0 (delta 0), pack-reused 50\u001b[K\n",
            "Unpacking objects: 100% (50/50), done.\n"
          ],
          "name": "stdout"
        }
      ]
    },
    {
      "cell_type": "markdown",
      "metadata": {
        "id": "T4uzc4a-u-15"
      },
      "source": [
        "##Run the compiler to create the blast-dbf binary"
      ]
    },
    {
      "cell_type": "code",
      "metadata": {
        "id": "mfIpPvifPQtZ",
        "colab": {
          "base_uri": "https://localhost:8080/"
        },
        "outputId": "e52b73eb-1ad5-44f8-dfeb-286a4c7805c6"
      },
      "source": [
        "#!pwd\n",
        "%cd blast-dbf/\n",
        "!make blast-dbf"
      ],
      "execution_count": 77,
      "outputs": [
        {
          "output_type": "stream",
          "text": [
            "/content/blast-dbf\n",
            "cc -o blast-dbf blast.c blast-dbf.c\n"
          ],
          "name": "stdout"
        }
      ]
    },
    {
      "cell_type": "markdown",
      "metadata": {
        "id": "EkRdEz2QvNyY"
      },
      "source": [
        "##Change to root dir (/content)"
      ]
    },
    {
      "cell_type": "code",
      "metadata": {
        "id": "_NxUL__pPNKJ",
        "colab": {
          "base_uri": "https://localhost:8080/"
        },
        "outputId": "cd1dd803-caf0-4815-cf2f-ef7c14bc479e"
      },
      "source": [
        "#!pwd\n",
        "%cd /content\n"
      ],
      "execution_count": 78,
      "outputs": [
        {
          "output_type": "stream",
          "text": [
            "/content\n"
          ],
          "name": "stdout"
        }
      ]
    },
    {
      "cell_type": "markdown",
      "metadata": {
        "id": "6Hci3ZGhvXI3"
      },
      "source": [
        "##Run script dbc2dbf which will  generate .dbf files from /content/data/*.dbc"
      ]
    },
    {
      "cell_type": "code",
      "metadata": {
        "id": "vIixmkFAPDf0",
        "colab": {
          "base_uri": "https://localhost:8080/"
        },
        "outputId": "cc01e098-92cf-4e77-b25c-2dcf41849a14"
      },
      "source": [
        "!sh ./dbc2dbf.sh"
      ],
      "execution_count": 79,
      "outputs": [
        {
          "output_type": "stream",
          "text": [
            "data/DORR2016.dbc converted to dbf\n",
            "data/DORR2017.dbc converted to dbf\n",
            "data/DORR2018.dbc converted to dbf\n"
          ],
          "name": "stdout"
        }
      ]
    },
    {
      "cell_type": "markdown",
      "metadata": {
        "id": "4sKprpOlv2Y8"
      },
      "source": [
        "##Create the following function dbf_to_csv"
      ]
    },
    {
      "cell_type": "code",
      "metadata": {
        "id": "nsbKiH1aPADi"
      },
      "source": [
        "#Input a dbf, output a csv, same name, same path, except extension\n",
        "def dbf_to_csv(dbf_table_pth):\n",
        "    csv_fn = dbf_table_pth[:-4]+ \".csv\" #Set the csv file name\n",
        "    table = DBF(dbf_table_pth)# table variable is a DBF object\n",
        "    with open(csv_fn, 'w', newline = '') as f:# create a csv file, fill it with dbf content\n",
        "        writer = csv.writer(f)\n",
        "        writer.writerow(table.field_names)# write the column name\n",
        "        for record in table:# write the rows\n",
        "            writer.writerow(list(record.values()))\n",
        "    return csv_fn# return the csv name"
      ],
      "execution_count": 80,
      "outputs": []
    },
    {
      "cell_type": "markdown",
      "metadata": {
        "id": "7dsVKGYYwCSr"
      },
      "source": [
        "## Import csv into python "
      ]
    },
    {
      "cell_type": "code",
      "metadata": {
        "id": "i_5gTtF2wOdj"
      },
      "source": [
        "import csv"
      ],
      "execution_count": 81,
      "outputs": []
    },
    {
      "cell_type": "markdown",
      "metadata": {
        "id": "OxxCuIkTwTfx"
      },
      "source": [
        "##Run the dbf_csv function below"
      ]
    },
    {
      "cell_type": "code",
      "metadata": {
        "id": "js7tnCKkO0rz",
        "colab": {
          "base_uri": "https://localhost:8080/",
          "height": 35
        },
        "outputId": "ecc0fd8e-9e1c-4be7-954a-055a635a744f"
      },
      "source": [
        "\n",
        "dbf_to_csv('/content/data/'+source+'.dbf')\n",
        "dbf_to_csv('/content/data/'+source1+'.dbf')\n",
        "dbf_to_csv('/content/data/'+source2+'.dbf')"
      ],
      "execution_count": 82,
      "outputs": [
        {
          "output_type": "execute_result",
          "data": {
            "application/vnd.google.colaboratory.intrinsic+json": {
              "type": "string"
            },
            "text/plain": [
              "'/content/data/DORR2018.csv'"
            ]
          },
          "metadata": {
            "tags": []
          },
          "execution_count": 82
        }
      ]
    },
    {
      "cell_type": "markdown",
      "metadata": {
        "id": "-AeoC-YD2dLc"
      },
      "source": [
        "#Now let's generate a .JSON file based on the generated .CSV"
      ]
    },
    {
      "cell_type": "markdown",
      "metadata": {
        "id": "b8haiker2rXT"
      },
      "source": [
        "## Let's load json and pandas libraries into Python"
      ]
    },
    {
      "cell_type": "code",
      "metadata": {
        "id": "uRnVBLK-2nWV"
      },
      "source": [
        "import json \n",
        "import pandas as pd\n",
        "import warnings\n",
        "from pandas.core.common import SettingWithCopyWarning\n",
        "\n",
        "warnings.simplefilter(action=\"ignore\", category=SettingWithCopyWarning)"
      ],
      "execution_count": 83,
      "outputs": []
    },
    {
      "cell_type": "markdown",
      "metadata": {
        "id": "TVMNDpVM3F6h"
      },
      "source": [
        "## Create the dataframe based the new CSV(s) recently created\n"
      ]
    },
    {
      "cell_type": "code",
      "metadata": {
        "id": "cIdLt6bd6fIE"
      },
      "source": [
        "df = pd.read_csv (r'/content/data/'+source+'.csv')\n",
        "df1 = pd.read_csv (r'/content/data/'+source1+'.csv')\n",
        "df2 = pd.read_csv (r'/content/data/'+source2+'.csv')\n"
      ],
      "execution_count": 84,
      "outputs": []
    },
    {
      "cell_type": "markdown",
      "metadata": {
        "id": "hhIq_CqHwhRw"
      },
      "source": [
        "##Generate a .JSON file format based on .CSV with DF"
      ]
    },
    {
      "cell_type": "code",
      "metadata": {
        "id": "8H36SENeTIc3"
      },
      "source": [
        "df.to_json (r'/content/data/'+source+'.json')\n",
        "df1.to_json (r'/content/data/'+source1+'.json')\n",
        "df2.to_json (r'/content/data/'+source2+'.json')"
      ],
      "execution_count": 85,
      "outputs": []
    },
    {
      "cell_type": "markdown",
      "metadata": {
        "id": "9KlTdB-CwqPO"
      },
      "source": [
        "##Now we can use some functions to display the Data Frame(s)"
      ]
    },
    {
      "cell_type": "code",
      "metadata": {
        "id": "PxzCHz0ITryj",
        "colab": {
          "base_uri": "https://localhost:8080/"
        },
        "outputId": "456767ee-0543-4fb5-d4a1-38a092d3e9fa"
      },
      "source": [
        "#df.head\n",
        "#df.columns\n",
        "#df.tail\n",
        "#df.size\n",
        "#df.head\n",
        "#df.describe\n",
        "#df.shape\n",
        "#df[\"IDADE\"]"
      ],
      "execution_count": 101,
      "outputs": [
        {
          "output_type": "execute_result",
          "data": {
            "text/plain": [
              "<bound method NDFrame.head of       CONTADOR  ORIGEM  TIPOBITO  ...  FONTESINF  ALTCAUSA  IDADE_CALC\n",
              "0            1       1         2  ...        NaN       NaN          20\n",
              "1            2       1         2  ...        NaN       NaN          80\n",
              "2            3       1         2  ...        NaN       NaN          60\n",
              "3            4       1         2  ...        NaN       NaN          67\n",
              "4            5       1         2  ...        NaN       NaN          36\n",
              "...        ...     ...       ...  ...        ...       ...         ...\n",
              "2152      2153       1         2  ...        NaN       NaN          20\n",
              "2153      2154       1         2  ...        NaN       NaN          76\n",
              "2154      2155       1         2  ...        NaN       NaN          50\n",
              "2155      2156       1         2  ...        NaN       NaN         101\n",
              "2156      2157       1         2  ...        NaN       NaN          86\n",
              "\n",
              "[2157 rows x 89 columns]>"
            ]
          },
          "metadata": {
            "tags": []
          },
          "execution_count": 101
        }
      ]
    },
    {
      "cell_type": "markdown",
      "metadata": {
        "id": "qGYa04lnPuKp"
      },
      "source": [
        "##Import packages to calculate the age in years and adust empty fields"
      ]
    },
    {
      "cell_type": "code",
      "metadata": {
        "id": "rd9YVL9KBe6Z"
      },
      "source": [
        "import datetime\n",
        "import math"
      ],
      "execution_count": 87,
      "outputs": []
    },
    {
      "cell_type": "markdown",
      "metadata": {
        "id": "_p7Tib9hQAGf"
      },
      "source": [
        "##Create function that does the calculation process"
      ]
    },
    {
      "cell_type": "code",
      "metadata": {
        "id": "WpAAAQY7FNl3"
      },
      "source": [
        "    #Calculate the age\n",
        "\n",
        "def calcularIdade(dfin):\n",
        "  dfin[\"IDADE_CALC\"] = \"\"\n",
        "  for i in dfin.index :\n",
        "        if math.isnan(dfin['DTNASC'][i]):\n",
        "          dfin['IDADE_CALC'][i]=0\n",
        "          #print()\n",
        "        else:\n",
        "          try:\n",
        "              date_str_n = str(dfin['DTNASC'][i])\n",
        "              format_str_n = '%d%m%Y.0' # The format\n",
        "              #print(i)\n",
        "              datetime_obj_n = datetime.datetime.strptime(date_str_n, format_str_n)\n",
        "              #print(datetime_obj_n.date())\n",
        "              date_str_o = str(dfin['DTOBITO'][i])\n",
        "              format_str_o = '%d%m%Y' # The format\n",
        "              datetime_obj_o = datetime.datetime.strptime(date_str_o, format_str_o)\n",
        "              #print(datetime_obj_o.date())\n",
        "              life_time = datetime_obj_o - datetime_obj_n\n",
        "              days_in_year = 365.2425\n",
        "              age = life_time.days\n",
        "              idade = age/days_in_year\n",
        "              dfin['IDADE_CALC'][i]=int(idade)\n",
        "          except:\n",
        "            dfin['IDADE_CALC'][i]=-1\n",
        "            #dfin = dfin[dfin[\"IDADE\"]>-1]"
      ],
      "execution_count": 88,
      "outputs": []
    },
    {
      "cell_type": "markdown",
      "metadata": {
        "id": "iIJz1gMvQGlW"
      },
      "source": [
        "##Execute the function to calculate the age in years\n",
        " "
      ]
    },
    {
      "cell_type": "code",
      "metadata": {
        "id": "F9ba5fY2pW35"
      },
      "source": [
        "calcularIdade(df)\n",
        "calcularIdade(df1)\n",
        "calcularIdade(df2)\n"
      ],
      "execution_count": 89,
      "outputs": []
    },
    {
      "cell_type": "code",
      "metadata": {
        "id": "xE4K6Ma0NfNJ"
      },
      "source": [
        "df_obitos_por_idade = df['IDADE_CALC'].value_counts().sort_index()\n",
        "df_obitos_por_idade1 = df1['IDADE_CALC'].value_counts().sort_index()\n",
        "df_obitos_por_idade2 = df2['IDADE_CALC'].value_counts().sort_index()\n"
      ],
      "execution_count": 90,
      "outputs": []
    },
    {
      "cell_type": "code",
      "metadata": {
        "colab": {
          "base_uri": "https://localhost:8080/"
        },
        "id": "akKsUXluhuuZ",
        "outputId": "68cda583-ec77-4864-e376-e4f2e80e1aca"
      },
      "source": [
        "df_obitos_por_idade.head"
      ],
      "execution_count": 91,
      "outputs": [
        {
          "output_type": "execute_result",
          "data": {
            "text/plain": [
              "<bound method NDFrame.head of -1       27\n",
              " 0      222\n",
              " 1       28\n",
              " 2       10\n",
              " 3       12\n",
              "       ... \n",
              " 100      5\n",
              " 101      3\n",
              " 102      2\n",
              " 104      1\n",
              " 105      1\n",
              "Name: IDADE_CALC, Length: 106, dtype: int64>"
            ]
          },
          "metadata": {
            "tags": []
          },
          "execution_count": 91
        }
      ]
    },
    {
      "cell_type": "code",
      "metadata": {
        "colab": {
          "base_uri": "https://localhost:8080/",
          "height": 459
        },
        "id": "hXbc5KPSuXfJ",
        "outputId": "a930f32d-73fc-4f1c-c983-9cc3188ea891"
      },
      "source": [
        "import matplotlib.pyplot as plt\n",
        "plt.figure(figsize=(15,7))\n",
        "df_obitos_por_idade.plot(marker='o', markerfacecolor='blue', markersize=1, color='skyblue', linewidth=2, label=source)\n",
        "df_obitos_por_idade1.plot(marker='x', color='green', markersize=2, linewidth=2, label=source1)\n",
        "df_obitos_por_idade2.plot(marker='x', color='red', markersize=2, linewidth=2, label=source2)\n",
        "plt.legend(title = 'Numero de obitos por idade', title_fontsize = '20')\n",
        "plt.xlabel(\"Idade\")\n",
        "plt.ylabel(\"Numero de obitos\")"
      ],
      "execution_count": 92,
      "outputs": [
        {
          "output_type": "execute_result",
          "data": {
            "text/plain": [
              "Text(0, 0.5, 'Numero de obitos')"
            ]
          },
          "metadata": {
            "tags": []
          },
          "execution_count": 92
        },
        {
          "output_type": "display_data",
          "data": {
            "image/png": "[encoded data removed]",
            "text/plain": [
              "<Figure size 1080x504 with 1 Axes>"
            ]
          },
          "metadata": {
            "tags": [],
            "needs_background": "light"
          }
        }
      ]
    },
    {
      "cell_type": "code",
      "metadata": {
        "colab": {
          "base_uri": "https://localhost:8080/",
          "height": 544
        },
        "id": "98bUmk5IbREw",
        "outputId": "03cea9c2-e5bd-487a-ac43-4bd36cd0f89b"
      },
      "source": [
        "import matplotlib.pyplot as plt\n",
        "\n",
        "#plt.figure(figsize=(20,7))\n",
        "#df.plot(x=\"idade\", y=\"totalObitos\")\n",
        "df_obitos_por_idade.plot.bar(figsize=(30,10))\n",
        "\n",
        "\n",
        "#df2.plot(x=\"idade\", y=\"totalObitos\")\n",
        "\n",
        "#df.plot(marker='o', markerfacecolor='blue', markersize=0, color='skyblue')\n",
        "\n"
      ],
      "execution_count": 93,
      "outputs": [
        {
          "output_type": "execute_result",
          "data": {
            "text/plain": [
              "<matplotlib.axes._subplots.AxesSubplot at 0x7f38963315f8>"
            ]
          },
          "metadata": {
            "tags": []
          },
          "execution_count": 93
        },
        {
          "output_type": "display_data",
          "data": {
            "image/png": "[encoded data removed]",
            "text/plain": [
              "<Figure size 2160x720 with 1 Axes>"
            ]
          },
          "metadata": {
            "tags": [],
            "needs_background": "light"
          }
        }
      ]
    },
    {
      "cell_type": "code",
      "metadata": {
        "colab": {
          "base_uri": "https://localhost:8080/",
          "height": 544
        },
        "id": "eezIyMFdtO3F",
        "outputId": "65a1a473-683c-4457-d429-247ebb7b73a2"
      },
      "source": [
        "df_obitos_por_idade1.plot.bar(figsize=(30,10))\n"
      ],
      "execution_count": 94,
      "outputs": [
        {
          "output_type": "execute_result",
          "data": {
            "text/plain": [
              "<matplotlib.axes._subplots.AxesSubplot at 0x7f3893c87b70>"
            ]
          },
          "metadata": {
            "tags": []
          },
          "execution_count": 94
        },
        {
          "output_type": "display_data",
          "data": {
            "image/png": "[encoded data removed]",
            "text/plain": [
              "<Figure size 2160x720 with 1 Axes>"
            ]
          },
          "metadata": {
            "tags": [],
            "needs_background": "light"
          }
        }
      ]
    },
    {
      "cell_type": "code",
      "metadata": {
        "colab": {
          "base_uri": "https://localhost:8080/",
          "height": 544
        },
        "id": "8nBOuBIFtRC9",
        "outputId": "0aad49b4-a9c4-4920-abf7-626a5e9f012e"
      },
      "source": [
        "df_obitos_por_idade2.plot.bar(figsize=(30,10))"
      ],
      "execution_count": 95,
      "outputs": [
        {
          "output_type": "execute_result",
          "data": {
            "text/plain": [
              "<matplotlib.axes._subplots.AxesSubplot at 0x7f3893a0a668>"
            ]
          },
          "metadata": {
            "tags": []
          },
          "execution_count": 95
        },
        {
          "output_type": "display_data",
          "data": {
            "image/png": "[encoded data removed]",
            "text/plain": [
              "<Figure size 2160x720 with 1 Axes>"
            ]
          },
          "metadata": {
            "tags": [],
            "needs_background": "light"
          }
        }
      ]
    },
    {
      "cell_type": "code",
      "metadata": {
        "id": "kgdQwwy6w_UD"
      },
      "source": [
        "df_obitos_m = df[df['SEXO']==1]\n",
        "df_obitos_f = df[df['SEXO']==2]"
      ],
      "execution_count": 96,
      "outputs": []
    },
    {
      "cell_type": "code",
      "metadata": {
        "colab": {
          "base_uri": "https://localhost:8080/"
        },
        "id": "fhpQ7NFvxbcg",
        "outputId": "1b2bf28c-3f8a-4202-d37e-8132ee004ba0"
      },
      "source": [
        "df_obitos_m['SEXO'].head"
      ],
      "execution_count": 97,
      "outputs": [
        {
          "output_type": "execute_result",
          "data": {
            "text/plain": [
              "<bound method NDFrame.head of 1       1\n",
              "2       1\n",
              "4       1\n",
              "5       1\n",
              "6       1\n",
              "       ..\n",
              "2151    1\n",
              "2152    1\n",
              "2153    1\n",
              "2154    1\n",
              "2156    1\n",
              "Name: SEXO, Length: 1353, dtype: int64>"
            ]
          },
          "metadata": {
            "tags": []
          },
          "execution_count": 97
        }
      ]
    },
    {
      "cell_type": "code",
      "metadata": {
        "colab": {
          "base_uri": "https://localhost:8080/"
        },
        "id": "ex4TWQM-xwio",
        "outputId": "94b18bad-7308-4db1-c334-36843ae51f99"
      },
      "source": [
        "df_obitos_f['SEXO'].head"
      ],
      "execution_count": 98,
      "outputs": [
        {
          "output_type": "execute_result",
          "data": {
            "text/plain": [
              "<bound method NDFrame.head of 0       2\n",
              "3       2\n",
              "16      2\n",
              "22      2\n",
              "27      2\n",
              "       ..\n",
              "2142    2\n",
              "2144    2\n",
              "2147    2\n",
              "2148    2\n",
              "2155    2\n",
              "Name: SEXO, Length: 804, dtype: int64>"
            ]
          },
          "metadata": {
            "tags": []
          },
          "execution_count": 98
        }
      ]
    },
    {
      "cell_type": "code",
      "metadata": {
        "id": "IPTBugOox_KW"
      },
      "source": [
        "df_obitos_por_idade_m = df_obitos_m['IDADE_CALC'].value_counts().sort_index()\n",
        "df_obitos_por_idade_f = df_obitos_f['IDADE_CALC'].value_counts().sort_index()"
      ],
      "execution_count": 99,
      "outputs": []
    },
    {
      "cell_type": "code",
      "metadata": {
        "colab": {
          "base_uri": "https://localhost:8080/",
          "height": 459
        },
        "id": "QoGsYTuEyo-0",
        "outputId": "3696deff-b540-45a5-d344-214e11acf632"
      },
      "source": [
        "plt.figure(figsize=(15,7))\n",
        "df_obitos_por_idade_m.plot(marker='o', markerfacecolor='blue', markersize=1, color='skyblue', linewidth=2, label='Masculino')\n",
        "df_obitos_por_idade_f.plot(marker='x', color='green', markersize=2, linewidth=2, label='Feminino')\n",
        "plt.legend(title = 'Numero de obitos por idade ' + source , title_fontsize = '20')\n",
        "plt.xlabel(\"Idade\")\n",
        "plt.ylabel(\"Numero de obitos\")"
      ],
      "execution_count": 100,
      "outputs": [
        {
          "output_type": "execute_result",
          "data": {
            "text/plain": [
              "Text(0, 0.5, 'Numero de obitos')"
            ]
          },
          "metadata": {
            "tags": []
          },
          "execution_count": 100
        },
        {
          "output_type": "display_data",
          "data": {
            "image/png": "[encoded data removed]",
            "text/plain": [
              "<Figure size 1080x504 with 1 Axes>"
            ]
          },
          "metadata": {
            "tags": [],
            "needs_background": "light"
          }
        }
      ]
    }
  ]
}