{
  "nbformat": 4,
  "nbformat_minor": 0,
  "metadata": {
    "colab": {
      "name": "DataSusConvert2csv&json.ipynb",
      "provenance": [],
      "collapsed_sections": [],
      "toc_visible": true,
      "authorship_tag": "ABX9TyMjFAg0vbyZK56hGq2IB6LX",
      "include_colab_link": true
    },
    "kernelspec": {
      "name": "python3",
      "display_name": "Python 3"
    }
  },
  "cells": [
    {
      "cell_type": "markdown",
      "metadata": {
        "id": "view-in-github",
        "colab_type": "text"
      },
      "source": [
        "<a href=\"https://colab.research.google.com/github/MonsterFinger/git-basics/blob/master/DataSusConvert2csv%26json.ipynb\" target=\"_parent\"><img src=\"https://colab.research.google.com/assets/colab-badge.svg\" alt=\"Open In Colab\"/></a>"
      ]
    },
    {
      "cell_type": "markdown",
      "metadata": {
        "id": "8uw5zWv-xEyr"
      },
      "source": [
        "#Download .DBC files from DATASUS, convert them into .DBF an then to .CSV and JSON - using Python (data frame)  and Bash."
      ]
    },
    {
      "cell_type": "markdown",
      "metadata": {
        "id": "RoMSQ5cD6qQK"
      },
      "source": [
        "## Create data directory to store .DBC, .DBF & .CSV files type\n",
        "\n"
      ]
    },
    {
      "cell_type": "code",
      "metadata": {
        "id": "vGQ1hSxNQaKE"
      },
      "source": [
        "!mkdir data\n",
        "#!rm -rf /content/*\n"
      ],
      "execution_count": 4,
      "outputs": []
    },
    {
      "cell_type": "markdown",
      "metadata": {
        "id": "CdJv_6KS7QA9"
      },
      "source": [
        "## Verify if it has been created"
      ]
    },
    {
      "cell_type": "code",
      "metadata": {
        "id": "uJfEv6mdQgOh",
        "colab": {
          "base_uri": "https://localhost:8080/"
        },
        "outputId": "f8bc855a-0423-4c41-8281-e7762b8e8966"
      },
      "source": [
        "!ls"
      ],
      "execution_count": 5,
      "outputs": [
        {
          "output_type": "stream",
          "text": [
            "data\n"
          ],
          "name": "stdout"
        }
      ]
    },
    {
      "cell_type": "markdown",
      "metadata": {
        "id": "8F7wedx37lg0"
      },
      "source": [
        "##Go to data dir and download .dbc file(s) from DATASUS\n"
      ]
    },
    {
      "cell_type": "code",
      "metadata": {
        "id": "biNWWkYcQxJf",
        "colab": {
          "base_uri": "https://localhost:8080/"
        },
        "outputId": "71c084b3-431d-4ad0-effe-33c8bb68cd00"
      },
      "source": [
        "\n",
        "%cd data\n",
        "\n",
        "!wget 'ftp://ftp.datasus.gov.br/dissemin/publicos/SIM/CID10/DORES/DORR2018.dbc'"
      ],
      "execution_count": 6,
      "outputs": [
        {
          "output_type": "stream",
          "text": [
            "/content/data\n",
            "--2020-11-23 11:53:29--  ftp://ftp.datasus.gov.br/dissemin/publicos/SIM/CID10/DORES/DORR2018.dbc\n",
            "           => ‘DORR2018.dbc’\n",
            "Resolving ftp.datasus.gov.br (ftp.datasus.gov.br)... 189.28.143.164\n",
            "Connecting to ftp.datasus.gov.br (ftp.datasus.gov.br)|189.28.143.164|:21... connected.\n",
            "Logging in as anonymous ... Logged in!\n",
            "==> SYST ... done.    ==> PWD ... done.\n",
            "==> TYPE I ... done.  ==> CWD (1) /dissemin/publicos/SIM/CID10/DORES ... done.\n",
            "==> SIZE DORR2018.dbc ... 229909\n",
            "==> PASV ... done.    ==> RETR DORR2018.dbc ... done.\n",
            "Length: 229909 (225K) (unauthoritative)\n",
            "\n",
            "DORR2018.dbc        100%[===================>] 224.52K   307KB/s    in 0.7s    \n",
            "\n",
            "2020-11-23 11:53:32 (307 KB/s) - ‘DORR2018.dbc’ saved [229909]\n",
            "\n"
          ],
          "name": "stdout"
        }
      ]
    },
    {
      "cell_type": "markdown",
      "metadata": {
        "id": "yPzHqkF3s_de"
      },
      "source": [
        "##Change to content dir"
      ]
    },
    {
      "cell_type": "code",
      "metadata": {
        "id": "Qngw9kZwR_FK",
        "colab": {
          "base_uri": "https://localhost:8080/"
        },
        "outputId": "5d942331-a02d-4f0a-ad8b-45d2cef29c11"
      },
      "source": [
        "%cd /content/"
      ],
      "execution_count": 8,
      "outputs": [
        {
          "output_type": "stream",
          "text": [
            "/content\n"
          ],
          "name": "stdout"
        }
      ]
    },
    {
      "cell_type": "markdown",
      "metadata": {
        "id": "T9fsdWPQtQDj"
      },
      "source": [
        "##Download script dbc2dbf.sh from github\n",
        " "
      ]
    },
    {
      "cell_type": "code",
      "metadata": {
        "id": "gwxwrJuYQIPl",
        "colab": {
          "base_uri": "https://localhost:8080/"
        },
        "outputId": "867ecd5d-622b-40c3-e87b-8e9b08c61092"
      },
      "source": [
        "!wget https://raw.githubusercontent.com/greatjapa/dbc2csv/4a68def8b24833a5562a2eedf393ac49e9e2a959/dbc2dbf.sh"
      ],
      "execution_count": 9,
      "outputs": [
        {
          "output_type": "stream",
          "text": [
            "--2020-11-23 11:53:48--  https://raw.githubusercontent.com/greatjapa/dbc2csv/4a68def8b24833a5562a2eedf393ac49e9e2a959/dbc2dbf.sh\n",
            "Resolving raw.githubusercontent.com (raw.githubusercontent.com)... 151.101.0.133, 151.101.64.133, 151.101.128.133, ...\n",
            "Connecting to raw.githubusercontent.com (raw.githubusercontent.com)|151.101.0.133|:443... connected.\n",
            "HTTP request sent, awaiting response... 200 OK\n",
            "Length: 113 [text/plain]\n",
            "Saving to: ‘dbc2dbf.sh’\n",
            "\n",
            "\rdbc2dbf.sh            0%[                    ]       0  --.-KB/s               \rdbc2dbf.sh          100%[===================>]     113  --.-KB/s    in 0s      \n",
            "\n",
            "2020-11-23 11:53:49 (6.10 MB/s) - ‘dbc2dbf.sh’ saved [113/113]\n",
            "\n"
          ],
          "name": "stdout"
        }
      ]
    },
    {
      "cell_type": "markdown",
      "metadata": {
        "id": "mCXlaJLQtj2J"
      },
      "source": [
        "##Install and import the package dbfread in order to work with dbf file types"
      ]
    },
    {
      "cell_type": "code",
      "metadata": {
        "id": "WUtNPVXWPaVI",
        "colab": {
          "base_uri": "https://localhost:8080/"
        },
        "outputId": "143363de-cbc4-48b7-f3f0-31f7ebb73a54"
      },
      "source": [
        "!pip install dbfread\n",
        "from dbfread import DBF"
      ],
      "execution_count": 10,
      "outputs": [
        {
          "output_type": "stream",
          "text": [
            "Requirement already satisfied: dbfread in /usr/local/lib/python3.6/dist-packages (2.0.7)\n"
          ],
          "name": "stdout"
        }
      ]
    },
    {
      "cell_type": "markdown",
      "metadata": {
        "id": "8y-Kvb1XuS4G"
      },
      "source": [
        "## Go to the root dir (/content in google colab)"
      ]
    },
    {
      "cell_type": "code",
      "metadata": {
        "id": "Q3luhVIcRopd",
        "colab": {
          "base_uri": "https://localhost:8080/"
        },
        "outputId": "5d5a0f9b-6839-48ca-ddff-bee7ac99ec6a"
      },
      "source": [
        "%cd /content/"
      ],
      "execution_count": 11,
      "outputs": [
        {
          "output_type": "stream",
          "text": [
            "/content\n"
          ],
          "name": "stdout"
        }
      ]
    },
    {
      "cell_type": "markdown",
      "metadata": {
        "id": "odtIbOJsuhuc"
      },
      "source": [
        "##Download blast-dbf from Git hub"
      ]
    },
    {
      "cell_type": "code",
      "metadata": {
        "id": "VxQ7_X9XPUUi",
        "colab": {
          "base_uri": "https://localhost:8080/"
        },
        "outputId": "ef6c427e-2ced-4833-c766-76dbdeae5698"
      },
      "source": [
        "!git clone https://github.com/eaglebh/blast-dbf"
      ],
      "execution_count": 12,
      "outputs": [
        {
          "output_type": "stream",
          "text": [
            "Cloning into 'blast-dbf'...\n",
            "remote: Enumerating objects: 50, done.\u001b[K\n",
            "remote: Total 50 (delta 0), reused 0 (delta 0), pack-reused 50\u001b[K\n",
            "Unpacking objects: 100% (50/50), done.\n"
          ],
          "name": "stdout"
        }
      ]
    },
    {
      "cell_type": "markdown",
      "metadata": {
        "id": "T4uzc4a-u-15"
      },
      "source": [
        "##Run the compiler to create the blast-dbf binary"
      ]
    },
    {
      "cell_type": "code",
      "metadata": {
        "id": "mfIpPvifPQtZ",
        "colab": {
          "base_uri": "https://localhost:8080/"
        },
        "outputId": "7a6d960a-7070-46a8-8a44-600d8e0be878"
      },
      "source": [
        "#!pwd\n",
        "%cd blast-dbf/\n",
        "!make blast-dbf"
      ],
      "execution_count": 13,
      "outputs": [
        {
          "output_type": "stream",
          "text": [
            "/content/blast-dbf\n",
            "cc -o blast-dbf blast.c blast-dbf.c\n"
          ],
          "name": "stdout"
        }
      ]
    },
    {
      "cell_type": "markdown",
      "metadata": {
        "id": "EkRdEz2QvNyY"
      },
      "source": [
        "##Change to root dir (/content)"
      ]
    },
    {
      "cell_type": "code",
      "metadata": {
        "id": "_NxUL__pPNKJ",
        "colab": {
          "base_uri": "https://localhost:8080/"
        },
        "outputId": "c3577980-0da8-4b1d-c316-fa7f0fe7fd3a"
      },
      "source": [
        "#!pwd\n",
        "%cd /content\n"
      ],
      "execution_count": 14,
      "outputs": [
        {
          "output_type": "stream",
          "text": [
            "/content\n"
          ],
          "name": "stdout"
        }
      ]
    },
    {
      "cell_type": "markdown",
      "metadata": {
        "id": "6Hci3ZGhvXI3"
      },
      "source": [
        "##Run script dbc2dbf which will  generate .dbf files from /content/data/*.dbc"
      ]
    },
    {
      "cell_type": "code",
      "metadata": {
        "id": "vIixmkFAPDf0",
        "colab": {
          "base_uri": "https://localhost:8080/"
        },
        "outputId": "8b9a9143-c854-4934-db14-538b8730fbdc"
      },
      "source": [
        "!sh ./dbc2dbf.sh"
      ],
      "execution_count": 15,
      "outputs": [
        {
          "output_type": "stream",
          "text": [
            "data/DORR2018.dbc converted to dbf\n"
          ],
          "name": "stdout"
        }
      ]
    },
    {
      "cell_type": "markdown",
      "metadata": {
        "id": "4sKprpOlv2Y8"
      },
      "source": [
        "##Create the following function dbf_to_csv"
      ]
    },
    {
      "cell_type": "code",
      "metadata": {
        "id": "nsbKiH1aPADi"
      },
      "source": [
        "#Input a dbf, output a csv, same name, same path, except extension\n",
        "def dbf_to_csv(dbf_table_pth):\n",
        "    csv_fn = dbf_table_pth[:-4]+ \".csv\" #Set the csv file name\n",
        "    table = DBF(dbf_table_pth)# table variable is a DBF object\n",
        "    with open(csv_fn, 'w', newline = '') as f:# create a csv file, fill it with dbf content\n",
        "        writer = csv.writer(f)\n",
        "        writer.writerow(table.field_names)# write the column name\n",
        "        for record in table:# write the rows\n",
        "            writer.writerow(list(record.values()))\n",
        "    return csv_fn# return the csv name"
      ],
      "execution_count": 16,
      "outputs": []
    },
    {
      "cell_type": "markdown",
      "metadata": {
        "id": "7dsVKGYYwCSr"
      },
      "source": [
        "## Import csv into python "
      ]
    },
    {
      "cell_type": "code",
      "metadata": {
        "id": "i_5gTtF2wOdj"
      },
      "source": [
        "import csv"
      ],
      "execution_count": 17,
      "outputs": []
    },
    {
      "cell_type": "markdown",
      "metadata": {
        "id": "OxxCuIkTwTfx"
      },
      "source": [
        "##Run the dbf_csv function below"
      ]
    },
    {
      "cell_type": "code",
      "metadata": {
        "id": "js7tnCKkO0rz",
        "colab": {
          "base_uri": "https://localhost:8080/",
          "height": 35
        },
        "outputId": "72d38e29-a4ff-410c-c7f1-8f478ccff3fb"
      },
      "source": [
        "\n",
        "dbf_to_csv('/content/data/DORR2018.dbf')"
      ],
      "execution_count": 18,
      "outputs": [
        {
          "output_type": "execute_result",
          "data": {
            "application/vnd.google.colaboratory.intrinsic+json": {
              "type": "string"
            },
            "text/plain": [
              "'/content/data/DORR2018.csv'"
            ]
          },
          "metadata": {
            "tags": []
          },
          "execution_count": 18
        }
      ]
    },
    {
      "cell_type": "markdown",
      "metadata": {
        "id": "-AeoC-YD2dLc"
      },
      "source": [
        "#Now let's generate a .JSON file based on the generated .CSV"
      ]
    },
    {
      "cell_type": "markdown",
      "metadata": {
        "id": "b8haiker2rXT"
      },
      "source": [
        "## Let's load json and pandas libraries into Python"
      ]
    },
    {
      "cell_type": "code",
      "metadata": {
        "id": "uRnVBLK-2nWV"
      },
      "source": [
        "import json \n",
        "import pandas as pd"
      ],
      "execution_count": 27,
      "outputs": []
    },
    {
      "cell_type": "markdown",
      "metadata": {
        "id": "TVMNDpVM3F6h"
      },
      "source": [
        "## Create the dataframe based the new CSV recent created\n"
      ]
    },
    {
      "cell_type": "code",
      "metadata": {
        "id": "cIdLt6bd6fIE"
      },
      "source": [
        "df = pd.read_csv (r'/content/data/DORR2018.csv')\n",
        "\n"
      ],
      "execution_count": 21,
      "outputs": []
    },
    {
      "cell_type": "markdown",
      "metadata": {
        "id": "hhIq_CqHwhRw"
      },
      "source": [
        "##Generate a .JSON file format based on .CSV with DF"
      ]
    },
    {
      "cell_type": "code",
      "metadata": {
        "id": "8H36SENeTIc3"
      },
      "source": [
        "df.to_json (r'/content/data/DORR2018.json')\n"
      ],
      "execution_count": 22,
      "outputs": []
    },
    {
      "cell_type": "markdown",
      "metadata": {
        "id": "e0GLtvaF8CIV"
      },
      "source": [
        ""
      ]
    },
    {
      "cell_type": "markdown",
      "metadata": {
        "id": "9KlTdB-CwqPO"
      },
      "source": [
        "##Now we can use some functions to display the Data Frame"
      ]
    },
    {
      "cell_type": "code",
      "metadata": {
        "id": "PxzCHz0ITryj",
        "colab": {
          "base_uri": "https://localhost:8080/"
        },
        "outputId": "3d85abd0-d9e7-49fd-bbc4-8fb058826b04"
      },
      "source": [
        "#df.head\n",
        "df.columns\n",
        "#df.tail\n",
        "#df.size\n",
        "#df.head\n",
        "#df.describe\n",
        "#df.shape"
      ],
      "execution_count": 25,
      "outputs": [
        {
          "output_type": "execute_result",
          "data": {
            "text/plain": [
              "Index(['ORIGEM', 'TIPOBITO', 'DTOBITO', 'HORAOBITO', 'NATURAL', 'CODMUNNATU',\n",
              "       'DTNASC', 'IDADE', 'SEXO', 'RACACOR', 'ESTCIV', 'ESC', 'ESC2010',\n",
              "       'SERIESCFAL', 'OCUP', 'CODMUNRES', 'LOCOCOR', 'CODESTAB', 'ESTABDESCR',\n",
              "       'CODMUNOCOR', 'IDADEMAE', 'ESCMAE', 'ESCMAE2010', 'SERIESCMAE',\n",
              "       'OCUPMAE', 'QTDFILVIVO', 'QTDFILMORT', 'GRAVIDEZ', 'SEMAGESTAC',\n",
              "       'GESTACAO', 'PARTO', 'OBITOPARTO', 'PESO', 'TPMORTEOCO', 'OBITOGRAV',\n",
              "       'OBITOPUERP', 'ASSISTMED', 'EXAME', 'CIRURGIA', 'NECROPSIA', 'LINHAA',\n",
              "       'LINHAB', 'LINHAC', 'LINHAD', 'LINHAII', 'CAUSABAS', 'CB_PRE', 'CRM',\n",
              "       'COMUNSVOIM', 'DTATESTADO', 'CIRCOBITO', 'ACIDTRAB', 'FONTE',\n",
              "       'NUMEROLOTE', 'TPPOS', 'DTINVESTIG', 'CAUSABAS_O', 'DTCADASTRO',\n",
              "       'ATESTANTE', 'STCODIFICA', 'CODIFICADO', 'VERSAOSIST', 'VERSAOSCB',\n",
              "       'FONTEINV', 'DTRECEBIM', 'ATESTADO', 'DTRECORIGA', 'CAUSAMAT',\n",
              "       'ESCMAEAGR1', 'ESCFALAGR1', 'STDOEPIDEM', 'STDONOVA', 'DIFDATA',\n",
              "       'NUDIASOBCO', 'NUDIASOBIN', 'DTCADINV', 'TPOBITOCOR', 'DTCONINV',\n",
              "       'FONTES', 'TPRESGINFO', 'TPNIVELINV', 'NUDIASINF', 'DTCADINF',\n",
              "       'MORTEPARTO', 'DTCONCASO', 'FONTESINF', 'ALTCAUSA', 'CONTADOR'],\n",
              "      dtype='object')"
            ]
          },
          "metadata": {
            "tags": []
          },
          "execution_count": 25
        }
      ]
    }
  ]
}