{
  "nbformat": 4,
  "nbformat_minor": 0,
  "metadata": {
    "colab": {
      "name": "DataSusConvert2csv&json&rpt.ipynb",
      "provenance": [],
      "collapsed_sections": [],
      "authorship_tag": "ABX9TyM4Ik66mIKaxr5oB9WsY0VY",
      "include_colab_link": true
    },
    "kernelspec": {
      "name": "python3",
      "display_name": "Python 3"
    }
  },
  "cells": [
    {
      "cell_type": "markdown",
      "metadata": {
        "id": "view-in-github",
        "colab_type": "text"
      },
      "source": [
        "<a href=\"https://colab.research.google.com/github/MonsterFinger/git-basics/blob/master/DataSusConvert2csv%26json%26rpt.ipynb\" target=\"_parent\"><img src=\"https://colab.research.google.com/assets/colab-badge.svg\" alt=\"Open In Colab\"/></a>"
      ]
    },
    {
      "cell_type": "markdown",
      "metadata": {
        "id": "8uw5zWv-xEyr"
      },
      "source": [
        "#Download .DBC files from DATASUS, extract them into .DBF an then convert into .CSV and JSON - using Python (data frame)  and Bash."
      ]
    },
    {
      "cell_type": "markdown",
      "metadata": {
        "id": "RoMSQ5cD6qQK"
      },
      "source": [
        "## Create data directory to store .DBC, .DBF & .CSV files type\n",
        "\n"
      ]
    },
    {
      "cell_type": "code",
      "metadata": {
        "id": "vGQ1hSxNQaKE"
      },
      "source": [
        "#define var file source without the type.\n",
        "source = 'DORR2016'\n",
        "source1 = 'DORR2017'\n",
        "source2 = 'DORR2018'\n",
        "\n",
        "\n",
        "\n",
        "\n"
      ],
      "execution_count": 19,
      "outputs": []
    },
    {
      "cell_type": "code",
      "metadata": {
        "id": "QLrCbeYqqJGF"
      },
      "source": [
        "#!rm -rf /content/*\n",
        "!mkdir data"
      ],
      "execution_count": 20,
      "outputs": []
    },
    {
      "cell_type": "markdown",
      "metadata": {
        "id": "CdJv_6KS7QA9"
      },
      "source": [
        "## Verify if it has been created"
      ]
    },
    {
      "cell_type": "code",
      "metadata": {
        "id": "uJfEv6mdQgOh",
        "colab": {
          "base_uri": "https://localhost:8080/"
        },
        "outputId": "53395c00-1853-4ad3-9fcd-94461931b074"
      },
      "source": [
        "!ls\n",
        "%cd data"
      ],
      "execution_count": 21,
      "outputs": [
        {
          "output_type": "stream",
          "text": [
            "data\n",
            "/content/data\n"
          ],
          "name": "stdout"
        }
      ]
    },
    {
      "cell_type": "markdown",
      "metadata": {
        "id": "8F7wedx37lg0"
      },
      "source": [
        "##Go to data dir and download .dbc file(s) from DATASUS\n"
      ]
    },
    {
      "cell_type": "code",
      "metadata": {
        "id": "biNWWkYcQxJf"
      },
      "source": [
        "import shutil\n",
        "import urllib.request as request\n",
        "from contextlib import closing\n",
        "\n",
        "def downloadFile(source):\n",
        "  url = 'ftp://ftp.datasus.gov.br/dissemin/publicos/SIM/CID10/DORES/'+ source +'.dbc'\n",
        "  with closing(request.urlopen(url)) as r:\n",
        "      with open(source +'.dbc', 'wb') as f:\n",
        "          shutil.copyfileobj(r, f)\n",
        "\n"
      ],
      "execution_count": 22,
      "outputs": []
    },
    {
      "cell_type": "code",
      "metadata": {
        "id": "1diZZE5OqpMy"
      },
      "source": [
        "downloadFile(source)\n",
        "downloadFile(source1)\n",
        "downloadFile(source2)"
      ],
      "execution_count": 23,
      "outputs": []
    },
    {
      "cell_type": "markdown",
      "metadata": {
        "id": "yPzHqkF3s_de"
      },
      "source": [
        "##Change to content dir"
      ]
    },
    {
      "cell_type": "code",
      "metadata": {
        "id": "Qngw9kZwR_FK",
        "colab": {
          "base_uri": "https://localhost:8080/"
        },
        "outputId": "eb3b0388-5d6f-406f-a172-c1a667f4c5fc"
      },
      "source": [
        "%cd /content/"
      ],
      "execution_count": 24,
      "outputs": [
        {
          "output_type": "stream",
          "text": [
            "/content\n"
          ],
          "name": "stdout"
        }
      ]
    },
    {
      "cell_type": "markdown",
      "metadata": {
        "id": "T9fsdWPQtQDj"
      },
      "source": [
        "##Download script dbc2dbf.sh from github\n",
        " "
      ]
    },
    {
      "cell_type": "code",
      "metadata": {
        "id": "gwxwrJuYQIPl",
        "colab": {
          "base_uri": "https://localhost:8080/"
        },
        "outputId": "1c6b84de-94dd-42e7-9a5b-8420fb5da24f"
      },
      "source": [
        "!wget https://raw.githubusercontent.com/greatjapa/dbc2csv/4a68def8b24833a5562a2eedf393ac49e9e2a959/dbc2dbf.sh"
      ],
      "execution_count": 25,
      "outputs": [
        {
          "output_type": "stream",
          "text": [
            "--2020-11-23 20:03:03--  https://raw.githubusercontent.com/greatjapa/dbc2csv/4a68def8b24833a5562a2eedf393ac49e9e2a959/dbc2dbf.sh\n",
            "Resolving raw.githubusercontent.com (raw.githubusercontent.com)... 151.101.0.133, 151.101.64.133, 151.101.128.133, ...\n",
            "Connecting to raw.githubusercontent.com (raw.githubusercontent.com)|151.101.0.133|:443... connected.\n",
            "HTTP request sent, awaiting response... 200 OK\n",
            "Length: 113 [text/plain]\n",
            "Saving to: ‘dbc2dbf.sh’\n",
            "\n",
            "\rdbc2dbf.sh            0%[                    ]       0  --.-KB/s               \rdbc2dbf.sh          100%[===================>]     113  --.-KB/s    in 0s      \n",
            "\n",
            "2020-11-23 20:03:03 (5.39 MB/s) - ‘dbc2dbf.sh’ saved [113/113]\n",
            "\n"
          ],
          "name": "stdout"
        }
      ]
    },
    {
      "cell_type": "markdown",
      "metadata": {
        "id": "mCXlaJLQtj2J"
      },
      "source": [
        "##Install and import the package dbfread in order to work with dbf file types"
      ]
    },
    {
      "cell_type": "code",
      "metadata": {
        "id": "WUtNPVXWPaVI",
        "colab": {
          "base_uri": "https://localhost:8080/"
        },
        "outputId": "e5a32d6e-2248-4a3e-d74e-6a9260ccf832"
      },
      "source": [
        "!pip install dbfread\n",
        "from dbfread import DBF"
      ],
      "execution_count": 26,
      "outputs": [
        {
          "output_type": "stream",
          "text": [
            "Requirement already satisfied: dbfread in /usr/local/lib/python3.6/dist-packages (2.0.7)\n"
          ],
          "name": "stdout"
        }
      ]
    },
    {
      "cell_type": "markdown",
      "metadata": {
        "id": "8y-Kvb1XuS4G"
      },
      "source": [
        "## Go to the root dir (/content in google colab)"
      ]
    },
    {
      "cell_type": "code",
      "metadata": {
        "id": "Q3luhVIcRopd",
        "colab": {
          "base_uri": "https://localhost:8080/"
        },
        "outputId": "ff966ce5-0207-4768-9363-173a2e8fd0a2"
      },
      "source": [
        "%cd /content/"
      ],
      "execution_count": 27,
      "outputs": [
        {
          "output_type": "stream",
          "text": [
            "/content\n"
          ],
          "name": "stdout"
        }
      ]
    },
    {
      "cell_type": "markdown",
      "metadata": {
        "id": "odtIbOJsuhuc"
      },
      "source": [
        "##Download blast-dbf from Git hub"
      ]
    },
    {
      "cell_type": "code",
      "metadata": {
        "id": "VxQ7_X9XPUUi",
        "colab": {
          "base_uri": "https://localhost:8080/"
        },
        "outputId": "6a73feb5-375d-49b9-d648-d5416504f569"
      },
      "source": [
        "!git clone https://github.com/eaglebh/blast-dbf"
      ],
      "execution_count": 28,
      "outputs": [
        {
          "output_type": "stream",
          "text": [
            "Cloning into 'blast-dbf'...\n",
            "remote: Enumerating objects: 50, done.\u001b[K\n",
            "remote: Total 50 (delta 0), reused 0 (delta 0), pack-reused 50\u001b[K\n",
            "Unpacking objects: 100% (50/50), done.\n"
          ],
          "name": "stdout"
        }
      ]
    },
    {
      "cell_type": "markdown",
      "metadata": {
        "id": "T4uzc4a-u-15"
      },
      "source": [
        "##Run the compiler to create the blast-dbf binary"
      ]
    },
    {
      "cell_type": "code",
      "metadata": {
        "id": "mfIpPvifPQtZ",
        "colab": {
          "base_uri": "https://localhost:8080/"
        },
        "outputId": "34749352-c1be-49fb-ce29-e2df3904f0dd"
      },
      "source": [
        "#!pwd\n",
        "%cd blast-dbf/\n",
        "!make blast-dbf"
      ],
      "execution_count": 29,
      "outputs": [
        {
          "output_type": "stream",
          "text": [
            "/content/blast-dbf\n",
            "cc -o blast-dbf blast.c blast-dbf.c\n"
          ],
          "name": "stdout"
        }
      ]
    },
    {
      "cell_type": "markdown",
      "metadata": {
        "id": "EkRdEz2QvNyY"
      },
      "source": [
        "##Change to root dir (/content)"
      ]
    },
    {
      "cell_type": "code",
      "metadata": {
        "id": "_NxUL__pPNKJ",
        "colab": {
          "base_uri": "https://localhost:8080/"
        },
        "outputId": "6c6d8e66-88e4-4e6c-93ff-7df5eabbe52b"
      },
      "source": [
        "#!pwd\n",
        "%cd /content\n"
      ],
      "execution_count": 30,
      "outputs": [
        {
          "output_type": "stream",
          "text": [
            "/content\n"
          ],
          "name": "stdout"
        }
      ]
    },
    {
      "cell_type": "markdown",
      "metadata": {
        "id": "6Hci3ZGhvXI3"
      },
      "source": [
        "##Run script dbc2dbf which will  generate .dbf files from /content/data/*.dbc"
      ]
    },
    {
      "cell_type": "code",
      "metadata": {
        "id": "vIixmkFAPDf0",
        "colab": {
          "base_uri": "https://localhost:8080/"
        },
        "outputId": "25066de4-0537-4530-ff8f-8892ef68dc1e"
      },
      "source": [
        "!sh ./dbc2dbf.sh"
      ],
      "execution_count": 31,
      "outputs": [
        {
          "output_type": "stream",
          "text": [
            "data/DORR2016.dbc converted to dbf\n",
            "data/DORR2017.dbc converted to dbf\n",
            "data/DORR2018.dbc converted to dbf\n"
          ],
          "name": "stdout"
        }
      ]
    },
    {
      "cell_type": "markdown",
      "metadata": {
        "id": "4sKprpOlv2Y8"
      },
      "source": [
        "##Create the following function dbf_to_csv"
      ]
    },
    {
      "cell_type": "code",
      "metadata": {
        "id": "nsbKiH1aPADi"
      },
      "source": [
        "#Input a dbf, output a csv, same name, same path, except extension\n",
        "def dbf_to_csv(dbf_table_pth):\n",
        "    csv_fn = dbf_table_pth[:-4]+ \".csv\" #Set the csv file name\n",
        "    table = DBF(dbf_table_pth)# table variable is a DBF object\n",
        "    with open(csv_fn, 'w', newline = '') as f:# create a csv file, fill it with dbf content\n",
        "        writer = csv.writer(f)\n",
        "        writer.writerow(table.field_names)# write the column name\n",
        "        for record in table:# write the rows\n",
        "            writer.writerow(list(record.values()))\n",
        "    return csv_fn# return the csv name"
      ],
      "execution_count": 32,
      "outputs": []
    },
    {
      "cell_type": "markdown",
      "metadata": {
        "id": "7dsVKGYYwCSr"
      },
      "source": [
        "## Import csv into python "
      ]
    },
    {
      "cell_type": "code",
      "metadata": {
        "id": "i_5gTtF2wOdj"
      },
      "source": [
        "import csv"
      ],
      "execution_count": 33,
      "outputs": []
    },
    {
      "cell_type": "markdown",
      "metadata": {
        "id": "OxxCuIkTwTfx"
      },
      "source": [
        "##Run the dbf_csv function below"
      ]
    },
    {
      "cell_type": "code",
      "metadata": {
        "id": "js7tnCKkO0rz",
        "colab": {
          "base_uri": "https://localhost:8080/",
          "height": 35
        },
        "outputId": "7a0c9c56-b679-4414-c4e4-4d96c9c97cd1"
      },
      "source": [
        "\n",
        "dbf_to_csv('/content/data/'+source+'.dbf')\n",
        "dbf_to_csv('/content/data/'+source1+'.dbf')\n",
        "dbf_to_csv('/content/data/'+source2+'.dbf')"
      ],
      "execution_count": 34,
      "outputs": [
        {
          "output_type": "execute_result",
          "data": {
            "application/vnd.google.colaboratory.intrinsic+json": {
              "type": "string"
            },
            "text/plain": [
              "'/content/data/DORR2018.csv'"
            ]
          },
          "metadata": {
            "tags": []
          },
          "execution_count": 34
        }
      ]
    },
    {
      "cell_type": "markdown",
      "metadata": {
        "id": "-AeoC-YD2dLc"
      },
      "source": [
        "#Now let's generate a .JSON file based on the generated .CSV"
      ]
    },
    {
      "cell_type": "markdown",
      "metadata": {
        "id": "b8haiker2rXT"
      },
      "source": [
        "## Let's load json and pandas libraries into Python"
      ]
    },
    {
      "cell_type": "code",
      "metadata": {
        "id": "uRnVBLK-2nWV"
      },
      "source": [
        "import json \n",
        "import pandas as pd"
      ],
      "execution_count": 35,
      "outputs": []
    },
    {
      "cell_type": "markdown",
      "metadata": {
        "id": "TVMNDpVM3F6h"
      },
      "source": [
        "## Create the dataframe based the new CSV recent created\n"
      ]
    },
    {
      "cell_type": "code",
      "metadata": {
        "id": "cIdLt6bd6fIE"
      },
      "source": [
        "df = pd.read_csv (r'/content/data/'+source+'.csv')\n",
        "df1 = pd.read_csv (r'/content/data/'+source1+'.csv')\n",
        "df2 = pd.read_csv (r'/content/data/'+source2+'.csv')\n"
      ],
      "execution_count": 36,
      "outputs": []
    },
    {
      "cell_type": "markdown",
      "metadata": {
        "id": "hhIq_CqHwhRw"
      },
      "source": [
        "##Generate a .JSON file format based on .CSV with DF"
      ]
    },
    {
      "cell_type": "code",
      "metadata": {
        "id": "8H36SENeTIc3"
      },
      "source": [
        "df.to_json (r'/content/data/'+source+'.json')\n",
        "df1.to_json (r'/content/data/'+source1+'.json')\n",
        "df2.to_json (r'/content/data/'+source2+'.json')"
      ],
      "execution_count": 37,
      "outputs": []
    },
    {
      "cell_type": "markdown",
      "metadata": {
        "id": "e0GLtvaF8CIV"
      },
      "source": [
        ""
      ]
    },
    {
      "cell_type": "markdown",
      "metadata": {
        "id": "9KlTdB-CwqPO"
      },
      "source": [
        "##Now we can use some functions to display the Data Frame"
      ]
    },
    {
      "cell_type": "code",
      "metadata": {
        "id": "PxzCHz0ITryj",
        "colab": {
          "base_uri": "https://localhost:8080/"
        },
        "outputId": "b97ab21c-f1d7-43db-bbfb-3d06841073b4"
      },
      "source": [
        "#df.head\n",
        "df.columns\n",
        "#df.tail\n",
        "#df.size\n",
        "#df.head\n",
        "#df.describe\n",
        "#df.shape\n",
        "#df[\"IDADE\"]"
      ],
      "execution_count": 38,
      "outputs": [
        {
          "output_type": "execute_result",
          "data": {
            "text/plain": [
              "Index(['CONTADOR', 'ORIGEM', 'TIPOBITO', 'DTOBITO', 'HORAOBITO', 'NATURAL',\n",
              "       'CODMUNNATU', 'DTNASC', 'IDADE', 'SEXO', 'RACACOR', 'ESTCIV', 'ESC',\n",
              "       'ESC2010', 'SERIESCFAL', 'OCUP', 'CODMUNRES', 'LOCOCOR', 'CODESTAB',\n",
              "       'ESTABDESCR', 'CODMUNOCOR', 'IDADEMAE', 'ESCMAE', 'ESCMAE2010',\n",
              "       'SERIESCMAE', 'OCUPMAE', 'QTDFILVIVO', 'QTDFILMORT', 'GRAVIDEZ',\n",
              "       'SEMAGESTAC', 'GESTACAO', 'PARTO', 'OBITOPARTO', 'PESO', 'TPMORTEOCO',\n",
              "       'OBITOGRAV', 'OBITOPUERP', 'ASSISTMED', 'EXAME', 'CIRURGIA',\n",
              "       'NECROPSIA', 'LINHAA', 'LINHAB', 'LINHAC', 'LINHAD', 'LINHAII',\n",
              "       'CAUSABAS', 'CB_PRE', 'CRM', 'COMUNSVOIM', 'DTATESTADO', 'CIRCOBITO',\n",
              "       'ACIDTRAB', 'FONTE', 'NUMEROLOTE', 'TPPOS', 'DTINVESTIG', 'CAUSABAS_O',\n",
              "       'DTCADASTRO', 'ATESTANTE', 'STCODIFICA', 'CODIFICADO', 'VERSAOSIST',\n",
              "       'VERSAOSCB', 'FONTEINV', 'DTRECEBIM', 'ATESTADO', 'DTRECORIGA',\n",
              "       'CAUSAMAT', 'ESCMAEAGR1', 'ESCFALAGR1', 'STDOEPIDEM', 'STDONOVA',\n",
              "       'DIFDATA', 'NUDIASOBCO', 'NUDIASOBIN', 'DTCADINV', 'TPOBITOCOR',\n",
              "       'DTCONINV', 'FONTES', 'TPRESGINFO', 'TPNIVELINV', 'NUDIASINF',\n",
              "       'DTCADINF', 'MORTEPARTO', 'DTCONCASO', 'FONTESINF', 'ALTCAUSA'],\n",
              "      dtype='object')"
            ]
          },
          "metadata": {
            "tags": []
          },
          "execution_count": 38
        }
      ]
    },
    {
      "cell_type": "code",
      "metadata": {
        "id": "ek0Bi9fzAuU2"
      },
      "source": [
        "#dfn = df[\"DTNASC\"]\n",
        "#dfo = df[\"DTOBITO\"]\n"
      ],
      "execution_count": 39,
      "outputs": []
    },
    {
      "cell_type": "code",
      "metadata": {
        "id": "RQUkjCfQDP4m"
      },
      "source": [
        "#dfo.describe"
      ],
      "execution_count": 40,
      "outputs": []
    },
    {
      "cell_type": "code",
      "metadata": {
        "id": "vjWMM4vNEccL"
      },
      "source": [
        "#dfn \n"
      ],
      "execution_count": 41,
      "outputs": []
    },
    {
      "cell_type": "code",
      "metadata": {
        "id": "rd9YVL9KBe6Z"
      },
      "source": [
        "import datetime\n",
        "import math\n",
        "\n",
        "\n",
        "\n"
      ],
      "execution_count": 42,
      "outputs": []
    },
    {
      "cell_type": "code",
      "metadata": {
        "id": "WpAAAQY7FNl3"
      },
      "source": [
        "    #Calculate the age\n",
        "\n",
        "def calcularIdade(dfin):\n",
        "  dfin[\"IDADE_CALC\"] = \"\"\n",
        "  for i in dfin.index :\n",
        "        if math.isnan(dfin['DTNASC'][i]):\n",
        "          dfin['IDADE_CALC'][i]=0\n",
        "          #print()\n",
        "        else:\n",
        "          try:\n",
        "              date_str_n = str(dfin['DTNASC'][i])\n",
        "              format_str_n = '%d%m%Y.0' # The format\n",
        "              #print(i)\n",
        "              datetime_obj_n = datetime.datetime.strptime(date_str_n, format_str_n)\n",
        "              #print(datetime_obj_n.date())\n",
        "              date_str_o = str(dfin['DTOBITO'][i])\n",
        "              format_str_o = '%d%m%Y' # The format\n",
        "              datetime_obj_o = datetime.datetime.strptime(date_str_o, format_str_o)\n",
        "              #print(datetime_obj_o.date())\n",
        "              life_time = datetime_obj_o - datetime_obj_n\n",
        "              days_in_year = 365.2425\n",
        "              age = life_time.days\n",
        "              idade = age/days_in_year\n",
        "              dfin['IDADE_CALC'][i]=int(idade)\n",
        "          except:\n",
        "            dfin['IDADE_CALC'][i]=0"
      ],
      "execution_count": 43,
      "outputs": []
    },
    {
      "cell_type": "code",
      "metadata": {
        "colab": {
          "base_uri": "https://localhost:8080/"
        },
        "id": "F9ba5fY2pW35",
        "outputId": "e99a9f80-f6e9-4ebc-8b0d-95b1012d3dba"
      },
      "source": [
        "calcularIdade(df)\n",
        "calcularIdade(df1)\n",
        "calcularIdade(df2)\n"
      ],
      "execution_count": 44,
      "outputs": [
        {
          "output_type": "stream",
          "text": [
            "/usr/local/lib/python3.6/dist-packages/ipykernel_launcher.py:24: SettingWithCopyWarning: \n",
            "A value is trying to be set on a copy of a slice from a DataFrame\n",
            "\n",
            "See the caveats in the documentation: https://pandas.pydata.org/pandas-docs/stable/user_guide/indexing.html#returning-a-view-versus-a-copy\n",
            "/usr/local/lib/python3.6/dist-packages/ipykernel_launcher.py:26: SettingWithCopyWarning: \n",
            "A value is trying to be set on a copy of a slice from a DataFrame\n",
            "\n",
            "See the caveats in the documentation: https://pandas.pydata.org/pandas-docs/stable/user_guide/indexing.html#returning-a-view-versus-a-copy\n",
            "/usr/local/lib/python3.6/dist-packages/ipykernel_launcher.py:7: SettingWithCopyWarning: \n",
            "A value is trying to be set on a copy of a slice from a DataFrame\n",
            "\n",
            "See the caveats in the documentation: https://pandas.pydata.org/pandas-docs/stable/user_guide/indexing.html#returning-a-view-versus-a-copy\n",
            "  import sys\n"
          ],
          "name": "stderr"
        }
      ]
    },
    {
      "cell_type": "code",
      "metadata": {
        "id": "xE4K6Ma0NfNJ"
      },
      "source": [
        "df_obitos_por_idade = df['IDADE_CALC'].value_counts().sort_index()\n",
        "df_obitos_por_idade1 = df1['IDADE_CALC'].value_counts().sort_index()\n",
        "df_obitos_por_idade2 = df2['IDADE_CALC'].value_counts().sort_index()\n"
      ],
      "execution_count": 45,
      "outputs": []
    },
    {
      "cell_type": "code",
      "metadata": {
        "colab": {
          "base_uri": "https://localhost:8080/"
        },
        "id": "akKsUXluhuuZ",
        "outputId": "b8ddc484-8ea2-47e9-caec-80d228f21ba8"
      },
      "source": [
        "df_obitos_por_idade.head"
      ],
      "execution_count": 46,
      "outputs": [
        {
          "output_type": "execute_result",
          "data": {
            "text/plain": [
              "<bound method NDFrame.head of 0      249\n",
              "1       28\n",
              "2       10\n",
              "3       12\n",
              "4        5\n",
              "      ... \n",
              "100      5\n",
              "101      3\n",
              "102      2\n",
              "104      1\n",
              "105      1\n",
              "Name: IDADE_CALC, Length: 105, dtype: int64>"
            ]
          },
          "metadata": {
            "tags": []
          },
          "execution_count": 46
        }
      ]
    },
    {
      "cell_type": "code",
      "metadata": {
        "colab": {
          "base_uri": "https://localhost:8080/",
          "height": 459
        },
        "id": "hXbc5KPSuXfJ",
        "outputId": "0cb75c60-5815-4d93-93e3-09500f3dd6a2"
      },
      "source": [
        "import matplotlib.pyplot as plt\n",
        "plt.figure(figsize=(15,7))\n",
        "df_obitos_por_idade.plot(marker='o', markerfacecolor='blue', markersize=1, color='skyblue', linewidth=2, label=source)\n",
        "df_obitos_por_idade1.plot(marker='x', color='green', markersize=2, linewidth=2, label=source1)\n",
        "df_obitos_por_idade2.plot(marker='x', color='red', markersize=2, linewidth=2, label=source2)\n",
        "plt.legend(title = 'Numero de obitos por idade', title_fontsize = '20')\n",
        "plt.xlabel(\"Idade\")\n",
        "plt.ylabel(\"Numero de obitos\")"
      ],
      "execution_count": 53,
      "outputs": [
        {
          "output_type": "execute_result",
          "data": {
            "text/plain": [
              "Text(0, 0.5, 'Numero de obitos')"
            ]
          },
          "metadata": {
            "tags": []
          },
          "execution_count": 53
        },
        {
          "output_type": "display_data",
          "data": {
            "image/png": "[encoded data removed]",
            "text/plain": [
              "<Figure size 1080x504 with 1 Axes>"
            ]
          },
          "metadata": {
            "tags": [],
            "needs_background": "light"
          }
        }
      ]
    },
    {
      "cell_type": "code",
      "metadata": {
        "id": "98bUmk5IbREw"
      },
      "source": [
        "import matplotlib.pyplot as plt\n",
        "\n",
        "#plt.figure(figsize=(20,7))\n",
        "#df.plot(x=\"idade\", y=\"totalObitos\")\n",
        "df_obitos_por_idade.plot.bar(figsize=(30,10))\n",
        "\n",
        "\n",
        "#df2.plot(x=\"idade\", y=\"totalObitos\")\n",
        "\n",
        "#df.plot(marker='o', markerfacecolor='blue', markersize=0, color='skyblue')\n",
        "\n"
      ],
      "execution_count": null,
      "outputs": []
    },
    {
      "cell_type": "code",
      "metadata": {
        "id": "eezIyMFdtO3F"
      },
      "source": [
        "df_obitos_por_idade1.plot.bar(figsize=(30,10))\n"
      ],
      "execution_count": null,
      "outputs": []
    },
    {
      "cell_type": "code",
      "metadata": {
        "id": "8nBOuBIFtRC9"
      },
      "source": [
        "df_obitos_por_idade2.plot.bar(figsize=(30,10))"
      ],
      "execution_count": null,
      "outputs": []
    },
    {
      "cell_type": "code",
      "metadata": {
        "id": "kgdQwwy6w_UD"
      },
      "source": [
        "df_obitos_m = df[df['SEXO']==1]\n",
        "df_obitos_f = df[df['SEXO']==2]"
      ],
      "execution_count": 58,
      "outputs": []
    },
    {
      "cell_type": "code",
      "metadata": {
        "colab": {
          "base_uri": "https://localhost:8080/"
        },
        "id": "fhpQ7NFvxbcg",
        "outputId": "aac14dd8-e749-47a7-e847-bb78a96f2e27"
      },
      "source": [
        "df_obitos_m['SEXO'].head"
      ],
      "execution_count": 56,
      "outputs": [
        {
          "output_type": "execute_result",
          "data": {
            "text/plain": [
              "<bound method NDFrame.head of 1       1\n",
              "2       1\n",
              "4       1\n",
              "5       1\n",
              "6       1\n",
              "       ..\n",
              "2151    1\n",
              "2152    1\n",
              "2153    1\n",
              "2154    1\n",
              "2156    1\n",
              "Name: SEXO, Length: 1353, dtype: int64>"
            ]
          },
          "metadata": {
            "tags": []
          },
          "execution_count": 56
        }
      ]
    },
    {
      "cell_type": "code",
      "metadata": {
        "colab": {
          "base_uri": "https://localhost:8080/"
        },
        "id": "ex4TWQM-xwio",
        "outputId": "255eb2ff-7786-4752-ed38-95198932800b"
      },
      "source": [
        "df_obitos_f['SEXO'].head"
      ],
      "execution_count": 59,
      "outputs": [
        {
          "output_type": "execute_result",
          "data": {
            "text/plain": [
              "<bound method NDFrame.head of 0       2\n",
              "3       2\n",
              "16      2\n",
              "22      2\n",
              "27      2\n",
              "       ..\n",
              "2142    2\n",
              "2144    2\n",
              "2147    2\n",
              "2148    2\n",
              "2155    2\n",
              "Name: SEXO, Length: 804, dtype: int64>"
            ]
          },
          "metadata": {
            "tags": []
          },
          "execution_count": 59
        }
      ]
    },
    {
      "cell_type": "code",
      "metadata": {
        "id": "IPTBugOox_KW"
      },
      "source": [
        "df_obitos_por_idade_m = df_obitos_m['IDADE_CALC'].value_counts().sort_index()\n",
        "df_obitos_por_idade_f = df_obitos_f['IDADE_CALC'].value_counts().sort_index()"
      ],
      "execution_count": 60,
      "outputs": []
    },
    {
      "cell_type": "code",
      "metadata": {
        "colab": {
          "base_uri": "https://localhost:8080/",
          "height": 459
        },
        "id": "QoGsYTuEyo-0",
        "outputId": "a1682fb2-dc84-4619-b579-2e5b1c7df1e7"
      },
      "source": [
        "plt.figure(figsize=(15,7))\n",
        "df_obitos_por_idade_m.plot(marker='o', markerfacecolor='blue', markersize=1, color='skyblue', linewidth=2, label='Masculino')\n",
        "df_obitos_por_idade_f.plot(marker='x', color='green', markersize=2, linewidth=2, label='Feminino')\n",
        "plt.legend(title = 'Numero de obitos por idade ' + source , title_fontsize = '20')\n",
        "plt.xlabel(\"Idade\")\n",
        "plt.ylabel(\"Numero de obitos\")"
      ],
      "execution_count": 63,
      "outputs": [
        {
          "output_type": "execute_result",
          "data": {
            "text/plain": [
              "Text(0, 0.5, 'Numero de obitos')"
            ]
          },
          "metadata": {
            "tags": []
          },
          "execution_count": 63
        },
        {
          "output_type": "display_data",
          "data": {
            "image/png": "[encoded data removed]",
            "text/plain": [
              "<Figure size 1080x504 with 1 Axes>"
            ]
          },
          "metadata": {
            "tags": [],
            "needs_background": "light"
          }
        }
      ]
    }
  ]
}